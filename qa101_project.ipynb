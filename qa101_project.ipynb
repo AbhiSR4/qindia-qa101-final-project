{
 "cells": [
  {
   "cell_type": "code",
   "execution_count": 105,
   "id": "abc3a19e",
   "metadata": {},
   "outputs": [],
   "source": [
    "from math import asin, pi, sqrt\n",
    "import matplotlib.pyplot as plt\n",
    "import numpy as np\n",
    "import math\n",
    "from qiskit import IBMQ, Aer, transpile, assemble\n",
    "from qiskit.visualization import plot_histogram\n",
    "from qiskit import Aer, execute,QuantumCircuit, QuantumRegister, ClassicalRegister\n",
    "from qiskit.converters.circuit_to_gate import circuit_to_gate\n",
    "from qiskit.transpiler.passes import RemoveBarriers\n"
   ]
  },
  {
   "cell_type": "markdown",
   "id": "587838ff",
   "metadata": {},
   "source": [
    "# 0. Taking Input and Intitalizing the circuit"
   ]
  },
  {
   "cell_type": "code",
   "execution_count": 143,
   "id": "80aff019",
   "metadata": {},
   "outputs": [
    {
     "name": "stdout",
     "output_type": "stream",
     "text": [
      "Enter multiple values of Ry(use space after each value): 0.2 1.6 2.0 1.8\n"
     ]
    }
   ],
   "source": [
    "#Taking values of Ry from the user and store in list y\n",
    "\n",
    "y = [float(y) for y in input(\"Enter multiple values of Ry(use space after each value): \").split()]\n"
   ]
  },
  {
   "cell_type": "code",
   "execution_count": 144,
   "id": "67bd6d15",
   "metadata": {},
   "outputs": [
    {
     "name": "stdout",
     "output_type": "stream",
     "text": [
      "Enter multiple values of basis( use space after each digit): 1 0 1\n",
      "Qubits in Basis state cannot be smaller than number of rotation gates\n",
      "Enter multiple values of basis( use space after each digit): 1 0 0 1\n",
      "Number of list is:  [1, 0, 0, 1]\n",
      "Number of qubits: 4\n"
     ]
    }
   ],
   "source": [
    "#Taking values of the basis state from user and storing in list x\n",
    "\n",
    "x = [int(x) for x in input(\"Enter multiple values of basis( use space after each digit): \").split()]\n",
    "if len(x)<len(y):\n",
    "    print(\"Qubits in Basis state cannot be smaller than number of rotation gates\")\n",
    "    x = [int(x) for x in input(\"Enter multiple values of basis( use space after each digit): \").split()]\n",
    "print(\"Number of list is: \", x)\n",
    "lg=len(x)\n",
    "print(\"Number of qubits:\",lg)"
   ]
  },
  {
   "cell_type": "code",
   "execution_count": 145,
   "id": "86340ec7",
   "metadata": {},
   "outputs": [
    {
     "name": "stdout",
     "output_type": "stream",
     "text": [
      "Enter the value of n for precision 2^-n:4\n"
     ]
    }
   ],
   "source": [
    "n= int(input(\"Enter the value of n for precision 2^-n:\"))"
   ]
  },
  {
   "cell_type": "code",
   "execution_count": 146,
   "id": "2df607d2",
   "metadata": {},
   "outputs": [
    {
     "name": "stdout",
     "output_type": "stream",
     "text": [
      "[1, 2]\n"
     ]
    },
    {
     "data": {
      "text/plain": [
       "2"
      ]
     },
     "execution_count": 146,
     "metadata": {},
     "output_type": "execute_result"
    }
   ],
   "source": [
    "#Finding occurences of 0 in list x from MSB to LSB and storing in control0 list\n",
    "\n",
    "control0= []   \n",
    "for i in range(len(x)):\n",
    "    if x[i]==0:\n",
    "        control0.append(i)\n",
    "print(control0)\n",
    "len(control0)\n"
   ]
  },
  {
   "cell_type": "code",
   "execution_count": 147,
   "id": "dfb8f341",
   "metadata": {},
   "outputs": [
    {
     "name": "stdout",
     "output_type": "stream",
     "text": [
      "[1, 2]\n"
     ]
    }
   ],
   "source": [
    "#Finding the occurences of 0 in list x from LSB to MSB with help of control0 list. as Qiskit qubits go from LSB to MSB\n",
    "\n",
    "list0 =len(control0)\n",
    "qubits0=[]\n",
    "for i in range(1,list0+1):\n",
    "    qubits0.append((len(x)-1)-control0[-i])\n",
    "print(qubits0)"
   ]
  },
  {
   "cell_type": "code",
   "execution_count": 148,
   "id": "295be6f5",
   "metadata": {},
   "outputs": [
    {
     "data": {
      "text/html": [
       "<pre style=\"word-wrap: normal;white-space: pre;background: #fff0;line-height: 1.1;font-family: &quot;Courier New&quot;,Courier,monospace\">        ┌─────────┐\n",
       "q489_0: ┤ Ry(0.2) ├\n",
       "        ├─────────┤\n",
       "q489_1: ┤ Ry(1.6) ├\n",
       "        └┬───────┬┘\n",
       "q489_2: ─┤ Ry(2) ├─\n",
       "        ┌┴───────┴┐\n",
       "q489_3: ┤ Ry(1.8) ├\n",
       "        └─────────┘</pre>"
      ],
      "text/plain": [
       "        ┌─────────┐\n",
       "q489_0: ┤ Ry(0.2) ├\n",
       "        ├─────────┤\n",
       "q489_1: ┤ Ry(1.6) ├\n",
       "        └┬───────┬┘\n",
       "q489_2: ─┤ Ry(2) ├─\n",
       "        ┌┴───────┴┐\n",
       "q489_3: ┤ Ry(1.8) ├\n",
       "        └─────────┘"
      ]
     },
     "execution_count": 148,
     "metadata": {},
     "output_type": "execute_result"
    }
   ],
   "source": [
    "#Defining intializing circuit u_init for len(y) number of angles\n",
    "\n",
    "def u_init():\n",
    "    qr = QuantumRegister(len(y))\n",
    "    qc = QuantumCircuit(qr)\n",
    "    for i in range(len(y)):\n",
    "        qc.ry(y[i],i)\n",
    "   \n",
    "    return qr,qc\n",
    "\n",
    "qr,qc = u_init()\n",
    "qc.draw()"
   ]
  },
  {
   "cell_type": "markdown",
   "id": "ff2cad72",
   "metadata": {},
   "source": [
    "# 1. Amplitude Amplification"
   ]
  },
  {
   "cell_type": "code",
   "execution_count": 149,
   "id": "803c2996",
   "metadata": {},
   "outputs": [],
   "source": [
    "# Create a labelling  circuit with a given length register and add a label qubit using mct\n",
    "\n",
    "def label_state(qr:QuantumRegister) -> QuantumCircuit:\n",
    "     \n",
    "    label_qubit = QuantumRegister(1)\n",
    "    qc_label = QuantumCircuit(qr,label_qubit)\n",
    "    qc_label.barrier()\n",
    "    for q in range(len(qubits0)):\n",
    "            qc_label.x(qubits0[q])\n",
    "    qc_label.mct(list(range(lg)),label_qubit[0])\n",
    "    for r in range(len(qubits0)):\n",
    "            qc_label.x(qubits0[r])\n",
    "    qc_label.barrier()       \n",
    "    return label_qubit, qc_label"
   ]
  },
  {
   "cell_type": "code",
   "execution_count": 150,
   "id": "c9d7dd90",
   "metadata": {},
   "outputs": [
    {
     "data": {
      "text/html": [
       "<pre style=\"word-wrap: normal;white-space: pre;background: #fff0;line-height: 1.1;font-family: &quot;Courier New&quot;,Courier,monospace\">         ░                 ░ \n",
       "q489_0: ─░────────■────────░─\n",
       "         ░ ┌───┐  │  ┌───┐ ░ \n",
       "q489_1: ─░─┤ X ├──■──┤ X ├─░─\n",
       "         ░ ├───┤  │  ├───┤ ░ \n",
       "q489_2: ─░─┤ X ├──■──┤ X ├─░─\n",
       "         ░ └───┘  │  └───┘ ░ \n",
       "q489_3: ─░────────■────────░─\n",
       "         ░      ┌─┴─┐      ░ \n",
       "q490_0: ─░──────┤ X ├──────░─\n",
       "         ░      └───┘      ░ </pre>"
      ],
      "text/plain": [
       "         ░                 ░ \n",
       "q489_0: ─░────────■────────░─\n",
       "         ░ ┌───┐  │  ┌───┐ ░ \n",
       "q489_1: ─░─┤ X ├──■──┤ X ├─░─\n",
       "         ░ ├───┤  │  ├───┤ ░ \n",
       "q489_2: ─░─┤ X ├──■──┤ X ├─░─\n",
       "         ░ └───┘  │  └───┘ ░ \n",
       "q489_3: ─░────────■────────░─\n",
       "         ░      ┌─┴─┐      ░ \n",
       "q490_0: ─░──────┤ X ├──────░─\n",
       "         ░      └───┘      ░ "
      ]
     },
     "execution_count": 150,
     "metadata": {},
     "output_type": "execute_result"
    }
   ],
   "source": [
    "#Draw the Labelling circuit qc_label\n",
    "\n",
    "label_qubit, qc_label = label_state(qr)\n",
    "\n",
    "qc_label.draw()\n"
   ]
  },
  {
   "cell_type": "code",
   "execution_count": 151,
   "id": "9f3d5af0",
   "metadata": {},
   "outputs": [
    {
     "name": "stdout",
     "output_type": "stream",
     "text": [
      "[0.23282504+0.j 0.02336042+0.j 0.23972564+0.j 0.02405279+0.j\n",
      " 0.36260351+0.j 0.0363817 +0.j 0.37335056+0.j 0.03746001+0.j\n",
      " 0.29339639+0.j 0.        +0.j 0.30209223+0.j 0.03031032+0.j\n",
      " 0.4569378 +0.j 0.0458467 +0.j 0.47048077+0.j 0.04720553+0.j\n",
      " 0.        +0.j 0.        +0.j 0.        +0.j 0.        +0.j\n",
      " 0.        +0.j 0.        +0.j 0.        +0.j 0.        +0.j\n",
      " 0.        +0.j 0.02943783+0.j 0.        +0.j 0.        +0.j\n",
      " 0.        +0.j 0.        +0.j 0.        +0.j 0.        +0.j]\n"
     ]
    }
   ],
   "source": [
    "#Combine Intialized circuit(qc) and Labelling Circuit(qc_label) to create a A(qc_oracle)\n",
    "\n",
    "qc_oracle = qc + qc_label\n",
    "simulator = Aer.get_backend('statevector_simulator')\n",
    "result = execute(qc_oracle, simulator).result()\n",
    "statevector = result.get_statevector(qc_oracle)\n",
    "print(statevector)"
   ]
  },
  {
   "cell_type": "code",
   "execution_count": 152,
   "id": "5fe49d8b",
   "metadata": {},
   "outputs": [
    {
     "data": {
      "text/html": [
       "<pre style=\"word-wrap: normal;white-space: pre;background: #fff0;line-height: 1.1;font-family: &quot;Courier New&quot;,Courier,monospace\">        ┌─────────┐ ░                 ░ \n",
       "q489_0: ┤ Ry(0.2) ├─░────────■────────░─\n",
       "        ├─────────┤ ░ ┌───┐  │  ┌───┐ ░ \n",
       "q489_1: ┤ Ry(1.6) ├─░─┤ X ├──■──┤ X ├─░─\n",
       "        └┬───────┬┘ ░ ├───┤  │  ├───┤ ░ \n",
       "q489_2: ─┤ Ry(2) ├──░─┤ X ├──■──┤ X ├─░─\n",
       "        ┌┴───────┴┐ ░ └───┘  │  └───┘ ░ \n",
       "q489_3: ┤ Ry(1.8) ├─░────────■────────░─\n",
       "        └─────────┘ ░      ┌─┴─┐      ░ \n",
       "q490_0: ────────────░──────┤ X ├──────░─\n",
       "                    ░      └───┘      ░ </pre>"
      ],
      "text/plain": [
       "        ┌─────────┐ ░                 ░ \n",
       "q489_0: ┤ Ry(0.2) ├─░────────■────────░─\n",
       "        ├─────────┤ ░ ┌───┐  │  ┌───┐ ░ \n",
       "q489_1: ┤ Ry(1.6) ├─░─┤ X ├──■──┤ X ├─░─\n",
       "        └┬───────┬┘ ░ ├───┤  │  ├───┤ ░ \n",
       "q489_2: ─┤ Ry(2) ├──░─┤ X ├──■──┤ X ├─░─\n",
       "        ┌┴───────┴┐ ░ └───┘  │  └───┘ ░ \n",
       "q489_3: ┤ Ry(1.8) ├─░────────■────────░─\n",
       "        └─────────┘ ░      ┌─┴─┐      ░ \n",
       "q490_0: ────────────░──────┤ X ├──────░─\n",
       "                    ░      └───┘      ░ "
      ]
     },
     "execution_count": 152,
     "metadata": {},
     "output_type": "execute_result"
    }
   ],
   "source": [
    "qc_oracle.draw()"
   ]
  },
  {
   "cell_type": "code",
   "execution_count": 153,
   "id": "044188cf",
   "metadata": {},
   "outputs": [
    {
     "name": "stdout",
     "output_type": "stream",
     "text": [
      "Before insertion [1, 0, 0, 1]\n",
      "[1, 1, 0, 0, 1]\n",
      "11001\n",
      "The decimal conversion is: 25\n"
     ]
    }
   ],
   "source": [
    "# Inserting label 1 in list x, thereby representing the labelled input state |1>|G>\n",
    "# finding the decimal equivalent of modified list\n",
    "\n",
    "print(\"Before insertion\" , x)\n",
    "x.insert(0,1)\n",
    "print(x)\n",
    "bnum = ''.join([str(elem) for elem in x])\n",
    "print(bnum)\n",
    "dnum= int(bnum, 2)\n",
    "print('The decimal conversion is:', dnum)"
   ]
  },
  {
   "cell_type": "code",
   "execution_count": 154,
   "id": "59048b0f",
   "metadata": {},
   "outputs": [
    {
     "name": "stdout",
     "output_type": "stream",
     "text": [
      "26\n"
     ]
    }
   ],
   "source": [
    "# For Testing of Amplification part- \n",
    "#finding the optimal number 𝑘  of Grover iterators we need to implement\n",
    "\n",
    "alpha_G = sqrt(abs(statevector[dnum])**2)\n",
    "k = (pi/(2*asin(alpha_G)) - 1)/2\n",
    "k = round(k)\n",
    "print(k)"
   ]
  },
  {
   "cell_type": "code",
   "execution_count": 155,
   "id": "880f00ba",
   "metadata": {},
   "outputs": [],
   "source": [
    "#Creating circuit that reflects across  |0⟩|𝐵⟩\n",
    "#label_qubit: the qubit that indicates which states have the least significant qubit equal to |1>\n",
    "\n",
    "def first_reflection(label_qubit: QuantumRegister) -> QuantumCircuit:\n",
    "    qc = QuantumCircuit(label_qubit)\n",
    "    qc.z(label_qubit[0])\n",
    "    return qc"
   ]
  },
  {
   "cell_type": "code",
   "execution_count": 156,
   "id": "7810fe6e",
   "metadata": {},
   "outputs": [
    {
     "data": {
      "text/html": [
       "<pre style=\"word-wrap: normal;white-space: pre;background: #fff0;line-height: 1.1;font-family: &quot;Courier New&quot;,Courier,monospace\">        ┌───┐\n",
       "q490_0: ┤ Z ├\n",
       "        └───┘</pre>"
      ],
      "text/plain": [
       "        ┌───┐\n",
       "q490_0: ┤ Z ├\n",
       "        └───┘"
      ]
     },
     "execution_count": 156,
     "metadata": {},
     "output_type": "execute_result"
    }
   ],
   "source": [
    "first_reflection_qc = first_reflection(label_qubit)\n",
    "first_reflection_qc.draw()"
   ]
  },
  {
   "cell_type": "code",
   "execution_count": 157,
   "id": "5e9d89fd",
   "metadata": {},
   "outputs": [],
   "source": [
    "#building the circuit that implements  𝑆𝜓 , which is a reflection across  |𝜓⟩\n",
    "#For this, we break it down into  𝐴𝑆0𝐴−1  where  𝑆0  is a reflection across the  |000>  state.\n",
    "\n",
    "def second_reflection(qr: QuantumRegister, label_qubit: QuantumRegister, qc_oracle: QuantumCircuit) -> QuantumCircuit:\n",
    "\n",
    "    # Circuit 1: create circuit for A^-1\n",
    "    qc_inverse = qc_oracle.inverse()\n",
    "    # Circuit 2: create circuit S_0:\n",
    "    # 1. Add ancilla qubits to circuit\n",
    "    ancilla_qubits = QuantumRegister(1)\n",
    "    qc_reflect = QuantumCircuit(qr, label_qubit, ancilla_qubits)\n",
    "    # 2. Reflect label |000>\n",
    "    qc_reflect.barrier()\n",
    "    for h in range(lg):\n",
    "            qc_reflect.x(qr[h])\n",
    "    qc_reflect.x(label_qubit)\n",
    "    qc_reflect.barrier()\n",
    "    qc_reflect.mct(list(range(lg+1)),ancilla_qubits[0])\n",
    "    qc_reflect.barrier()   \n",
    "    # 3. Perform reflection\n",
    "    qc_reflect.x(ancilla_qubits[0])\n",
    "    qc_reflect.z(ancilla_qubits[0])\n",
    "    qc_reflect.x(ancilla_qubits[0])\n",
    "    qc_reflect.barrier()\n",
    "    # 4. Uncompute ancilla qubits used to label |000>\n",
    "    qc_reflect.mct(list(range(lg+1)),ancilla_qubits[0])\n",
    "    qc_reflect.barrier()\n",
    "    for j in range(lg):\n",
    "            qc_reflect.x(qr[j])\n",
    "    qc_reflect.x(label_qubit)\n",
    "    \n",
    "    # Circuit 3: create circuit for A (do nothing, just use qc_oracle)\n",
    "    \n",
    "    # Combine all 3 circuits\n",
    "    qc = qc_inverse + qc_reflect + qc_oracle \n",
    "    return ancilla_qubits, qc"
   ]
  },
  {
   "cell_type": "code",
   "execution_count": 158,
   "id": "f2f57814",
   "metadata": {},
   "outputs": [
    {
     "data": {
      "text/html": [
       "<pre style=\"word-wrap: normal;white-space: pre;background: #fff0;line-height: 1.1;font-family: &quot;Courier New&quot;,Courier,monospace\">         ░                 ░ ┌──────────┐ ░ ┌───┐ ░       ░                 ░ »\n",
       "q489_0: ─░────────■────────░─┤ Ry(-0.2) ├─░─┤ X ├─░───■───░─────────────────░─»\n",
       "         ░ ┌───┐  │  ┌───┐ ░ ├──────────┤ ░ ├───┤ ░   │   ░                 ░ »\n",
       "q489_1: ─░─┤ X ├──■──┤ X ├─░─┤ Ry(-1.6) ├─░─┤ X ├─░───■───░─────────────────░─»\n",
       "         ░ ├───┤  │  ├───┤ ░ └┬────────┬┘ ░ ├───┤ ░   │   ░                 ░ »\n",
       "q489_2: ─░─┤ X ├──■──┤ X ├─░──┤ Ry(-2) ├──░─┤ X ├─░───■───░─────────────────░─»\n",
       "         ░ └───┘  │  └───┘ ░ ┌┴────────┴┐ ░ ├───┤ ░   │   ░                 ░ »\n",
       "q489_3: ─░────────■────────░─┤ Ry(-1.8) ├─░─┤ X ├─░───■───░─────────────────░─»\n",
       "         ░      ┌─┴─┐      ░ └──────────┘ ░ ├───┤ ░   │   ░                 ░ »\n",
       "q490_0: ─░──────┤ X ├──────░──────────────░─┤ X ├─░───■───░─────────────────░─»\n",
       "         ░      └───┘      ░              ░ └───┘ ░ ┌─┴─┐ ░ ┌───┐┌───┐┌───┐ ░ »\n",
       "q505_0: ──────────────────────────────────░───────░─┤ X ├─░─┤ X ├┤ Z ├┤ X ├─░─»\n",
       "                                          ░       ░ └───┘ ░ └───┘└───┘└───┘ ░ »\n",
       "«              ░ ┌───┐┌─────────┐ ░                 ░ \n",
       "«q489_0: ──■───░─┤ X ├┤ Ry(0.2) ├─░────────■────────░─\n",
       "«          │   ░ ├───┤├─────────┤ ░ ┌───┐  │  ┌───┐ ░ \n",
       "«q489_1: ──■───░─┤ X ├┤ Ry(1.6) ├─░─┤ X ├──■──┤ X ├─░─\n",
       "«          │   ░ ├───┤└┬───────┬┘ ░ ├───┤  │  ├───┤ ░ \n",
       "«q489_2: ──■───░─┤ X ├─┤ Ry(2) ├──░─┤ X ├──■──┤ X ├─░─\n",
       "«          │   ░ ├───┤┌┴───────┴┐ ░ └───┘  │  └───┘ ░ \n",
       "«q489_3: ──■───░─┤ X ├┤ Ry(1.8) ├─░────────■────────░─\n",
       "«          │   ░ ├───┤└─────────┘ ░      ┌─┴─┐      ░ \n",
       "«q490_0: ──■───░─┤ X ├────────────░──────┤ X ├──────░─\n",
       "«        ┌─┴─┐ ░ └───┘            ░      └───┘      ░ \n",
       "«q505_0: ┤ X ├─░──────────────────────────────────────\n",
       "«        └───┘ ░                                      </pre>"
      ],
      "text/plain": [
       "         ░                 ░ ┌──────────┐ ░ ┌───┐ ░       ░                 ░ »\n",
       "q489_0: ─░────────■────────░─┤ Ry(-0.2) ├─░─┤ X ├─░───■───░─────────────────░─»\n",
       "         ░ ┌───┐  │  ┌───┐ ░ ├──────────┤ ░ ├───┤ ░   │   ░                 ░ »\n",
       "q489_1: ─░─┤ X ├──■──┤ X ├─░─┤ Ry(-1.6) ├─░─┤ X ├─░───■───░─────────────────░─»\n",
       "         ░ ├───┤  │  ├───┤ ░ └┬────────┬┘ ░ ├───┤ ░   │   ░                 ░ »\n",
       "q489_2: ─░─┤ X ├──■──┤ X ├─░──┤ Ry(-2) ├──░─┤ X ├─░───■───░─────────────────░─»\n",
       "         ░ └───┘  │  └───┘ ░ ┌┴────────┴┐ ░ ├───┤ ░   │   ░                 ░ »\n",
       "q489_3: ─░────────■────────░─┤ Ry(-1.8) ├─░─┤ X ├─░───■───░─────────────────░─»\n",
       "         ░      ┌─┴─┐      ░ └──────────┘ ░ ├───┤ ░   │   ░                 ░ »\n",
       "q490_0: ─░──────┤ X ├──────░──────────────░─┤ X ├─░───■───░─────────────────░─»\n",
       "         ░      └───┘      ░              ░ └───┘ ░ ┌─┴─┐ ░ ┌───┐┌───┐┌───┐ ░ »\n",
       "q505_0: ──────────────────────────────────░───────░─┤ X ├─░─┤ X ├┤ Z ├┤ X ├─░─»\n",
       "                                          ░       ░ └───┘ ░ └───┘└───┘└───┘ ░ »\n",
       "«              ░ ┌───┐┌─────────┐ ░                 ░ \n",
       "«q489_0: ──■───░─┤ X ├┤ Ry(0.2) ├─░────────■────────░─\n",
       "«          │   ░ ├───┤├─────────┤ ░ ┌───┐  │  ┌───┐ ░ \n",
       "«q489_1: ──■───░─┤ X ├┤ Ry(1.6) ├─░─┤ X ├──■──┤ X ├─░─\n",
       "«          │   ░ ├───┤└┬───────┬┘ ░ ├───┤  │  ├───┤ ░ \n",
       "«q489_2: ──■───░─┤ X ├─┤ Ry(2) ├──░─┤ X ├──■──┤ X ├─░─\n",
       "«          │   ░ ├───┤┌┴───────┴┐ ░ └───┘  │  └───┘ ░ \n",
       "«q489_3: ──■───░─┤ X ├┤ Ry(1.8) ├─░────────■────────░─\n",
       "«          │   ░ ├───┤└─────────┘ ░      ┌─┴─┐      ░ \n",
       "«q490_0: ──■───░─┤ X ├────────────░──────┤ X ├──────░─\n",
       "«        ┌─┴─┐ ░ └───┘            ░      └───┘      ░ \n",
       "«q505_0: ┤ X ├─░──────────────────────────────────────\n",
       "«        └───┘ ░                                      "
      ]
     },
     "execution_count": 158,
     "metadata": {},
     "output_type": "execute_result"
    }
   ],
   "source": [
    "ancilla_qubits, second_reflection_qc = second_reflection(qr, label_qubit, qc_oracle)\n",
    "second_reflection_qc.draw()"
   ]
  },
  {
   "cell_type": "code",
   "execution_count": 159,
   "id": "74b0891e",
   "metadata": {},
   "outputs": [
    {
     "data": {
      "text/html": [
       "<pre style=\"word-wrap: normal;white-space: pre;background: #fff0;line-height: 1.1;font-family: &quot;Courier New&quot;,Courier,monospace\">        ┌───┐ ░      ┌───┐      ░              ░ ┌───┐ ░       ░           »\n",
       "q490_0: ┤ Z ├─░──────┤ X ├──────░──────────────░─┤ X ├─░───■───░───────────»\n",
       "        └───┘ ░      └─┬─┘      ░ ┌──────────┐ ░ ├───┤ ░   │   ░           »\n",
       "q489_0: ──────░────────■────────░─┤ Ry(-0.2) ├─░─┤ X ├─░───■───░───────────»\n",
       "              ░ ┌───┐  │  ┌───┐ ░ ├──────────┤ ░ ├───┤ ░   │   ░           »\n",
       "q489_1: ──────░─┤ X ├──■──┤ X ├─░─┤ Ry(-1.6) ├─░─┤ X ├─░───■───░───────────»\n",
       "              ░ ├───┤  │  ├───┤ ░ └┬────────┬┘ ░ ├───┤ ░   │   ░           »\n",
       "q489_2: ──────░─┤ X ├──■──┤ X ├─░──┤ Ry(-2) ├──░─┤ X ├─░───■───░───────────»\n",
       "              ░ └───┘  │  └───┘ ░ ┌┴────────┴┐ ░ ├───┤ ░   │   ░           »\n",
       "q489_3: ──────░────────■────────░─┤ Ry(-1.8) ├─░─┤ X ├─░───■───░───────────»\n",
       "              ░                 ░ └──────────┘ ░ └───┘ ░ ┌─┴─┐ ░ ┌───┐┌───┐»\n",
       "q505_0: ───────────────────────────────────────░───────░─┤ X ├─░─┤ X ├┤ Z ├»\n",
       "                                               ░       ░ └───┘ ░ └───┘└───┘»\n",
       "«              ░       ░ ┌───┐            ░      ┌───┐      ░ \n",
       "«q490_0: ──────░───■───░─┤ X ├────────────░──────┤ X ├──────░─\n",
       "«              ░   │   ░ ├───┤┌─────────┐ ░      └─┬─┘      ░ \n",
       "«q489_0: ──────░───■───░─┤ X ├┤ Ry(0.2) ├─░────────■────────░─\n",
       "«              ░   │   ░ ├───┤├─────────┤ ░ ┌───┐  │  ┌───┐ ░ \n",
       "«q489_1: ──────░───■───░─┤ X ├┤ Ry(1.6) ├─░─┤ X ├──■──┤ X ├─░─\n",
       "«              ░   │   ░ ├───┤└┬───────┬┘ ░ ├───┤  │  ├───┤ ░ \n",
       "«q489_2: ──────░───■───░─┤ X ├─┤ Ry(2) ├──░─┤ X ├──■──┤ X ├─░─\n",
       "«              ░   │   ░ ├───┤┌┴───────┴┐ ░ └───┘  │  └───┘ ░ \n",
       "«q489_3: ──────░───■───░─┤ X ├┤ Ry(1.8) ├─░────────■────────░─\n",
       "«        ┌───┐ ░ ┌─┴─┐ ░ └───┘└─────────┘ ░                 ░ \n",
       "«q505_0: ┤ X ├─░─┤ X ├─░──────────────────────────────────────\n",
       "«        └───┘ ░ └───┘ ░                                      </pre>"
      ],
      "text/plain": [
       "        ┌───┐ ░      ┌───┐      ░              ░ ┌───┐ ░       ░           »\n",
       "q490_0: ┤ Z ├─░──────┤ X ├──────░──────────────░─┤ X ├─░───■───░───────────»\n",
       "        └───┘ ░      └─┬─┘      ░ ┌──────────┐ ░ ├───┤ ░   │   ░           »\n",
       "q489_0: ──────░────────■────────░─┤ Ry(-0.2) ├─░─┤ X ├─░───■───░───────────»\n",
       "              ░ ┌───┐  │  ┌───┐ ░ ├──────────┤ ░ ├───┤ ░   │   ░           »\n",
       "q489_1: ──────░─┤ X ├──■──┤ X ├─░─┤ Ry(-1.6) ├─░─┤ X ├─░───■───░───────────»\n",
       "              ░ ├───┤  │  ├───┤ ░ └┬────────┬┘ ░ ├───┤ ░   │   ░           »\n",
       "q489_2: ──────░─┤ X ├──■──┤ X ├─░──┤ Ry(-2) ├──░─┤ X ├─░───■───░───────────»\n",
       "              ░ └───┘  │  └───┘ ░ ┌┴────────┴┐ ░ ├───┤ ░   │   ░           »\n",
       "q489_3: ──────░────────■────────░─┤ Ry(-1.8) ├─░─┤ X ├─░───■───░───────────»\n",
       "              ░                 ░ └──────────┘ ░ └───┘ ░ ┌─┴─┐ ░ ┌───┐┌───┐»\n",
       "q505_0: ───────────────────────────────────────░───────░─┤ X ├─░─┤ X ├┤ Z ├»\n",
       "                                               ░       ░ └───┘ ░ └───┘└───┘»\n",
       "«              ░       ░ ┌───┐            ░      ┌───┐      ░ \n",
       "«q490_0: ──────░───■───░─┤ X ├────────────░──────┤ X ├──────░─\n",
       "«              ░   │   ░ ├───┤┌─────────┐ ░      └─┬─┘      ░ \n",
       "«q489_0: ──────░───■───░─┤ X ├┤ Ry(0.2) ├─░────────■────────░─\n",
       "«              ░   │   ░ ├───┤├─────────┤ ░ ┌───┐  │  ┌───┐ ░ \n",
       "«q489_1: ──────░───■───░─┤ X ├┤ Ry(1.6) ├─░─┤ X ├──■──┤ X ├─░─\n",
       "«              ░   │   ░ ├───┤└┬───────┬┘ ░ ├───┤  │  ├───┤ ░ \n",
       "«q489_2: ──────░───■───░─┤ X ├─┤ Ry(2) ├──░─┤ X ├──■──┤ X ├─░─\n",
       "«              ░   │   ░ ├───┤┌┴───────┴┐ ░ └───┘  │  └───┘ ░ \n",
       "«q489_3: ──────░───■───░─┤ X ├┤ Ry(1.8) ├─░────────■────────░─\n",
       "«        ┌───┐ ░ ┌─┴─┐ ░ └───┘└─────────┘ ░                 ░ \n",
       "«q505_0: ┤ X ├─░─┤ X ├─░──────────────────────────────────────\n",
       "«        └───┘ ░ └───┘ ░                                      "
      ]
     },
     "execution_count": 159,
     "metadata": {},
     "output_type": "execute_result"
    }
   ],
   "source": [
    "#Putting the two reflection together to obtain the Gover operator\n",
    "grover_operator = first_reflection_qc + second_reflection_qc\n",
    "grover_operator.draw()"
   ]
  },
  {
   "cell_type": "code",
   "execution_count": 160,
   "id": "564c1fb2",
   "metadata": {},
   "outputs": [
    {
     "name": "stdout",
     "output_type": "stream",
     "text": [
      "[1, 0, 0, 1]\n"
     ]
    }
   ],
   "source": [
    "#removing the label 1 from list x\n",
    "x.pop(0)\n",
    "print(x)"
   ]
  },
  {
   "cell_type": "code",
   "execution_count": 161,
   "id": "52fa157d",
   "metadata": {},
   "outputs": [
    {
     "name": "stdout",
     "output_type": "stream",
     "text": [
      "Congratulations! Your final probability of measuring |[1, 0, 0, 1]> is 0.9998925519281281\n"
     ]
    }
   ],
   "source": [
    "#For Testing of Amplification part\n",
    "# Putting together operator A(qc_oracle) and Q(grover_operator) for Amplitude Amplification\n",
    "final_qc = qc_oracle.copy()\n",
    "for _ in range(k):\n",
    "    final_qc += grover_operator\n",
    "result = execute(final_qc, simulator).result()\n",
    "statevector = result.get_statevector(final_qc)\n",
    "\n",
    "final_prob = abs(statevector[dnum])**2\n",
    "assert final_prob > 0.99, f'your final probability of measuring |{x}> is {final_prob} which is less than 0.99'\n",
    "print(f'Congratulations! Your final probability of measuring |{x}> is {final_prob}')"
   ]
  },
  {
   "cell_type": "markdown",
   "id": "cc998d5f",
   "metadata": {},
   "source": [
    "# 2.Phase Estimation using Controlled Grover operator "
   ]
  },
  {
   "cell_type": "code",
   "execution_count": 162,
   "id": "77ef2773",
   "metadata": {},
   "outputs": [],
   "source": [
    "# Converting qc_oracle Circuit to Gate A \n",
    "qc_oracle = RemoveBarriers()(qc_oracle)\n",
    "A = circuit_to_gate(qc_oracle)"
   ]
  },
  {
   "cell_type": "code",
   "execution_count": 163,
   "id": "8c4f07f4",
   "metadata": {},
   "outputs": [
    {
     "data": {
      "text/html": [
       "<pre style=\"word-wrap: normal;white-space: pre;background: #fff0;line-height: 1.1;font-family: &quot;Courier New&quot;,Courier,monospace\">              ┌───┐        ░ \n",
       "q546_0: ──────┤ H ├────────░─\n",
       "              ├───┤        ░ \n",
       "q546_1: ──────┤ H ├────────░─\n",
       "              ├───┤        ░ \n",
       "q546_2: ──────┤ H ├────────░─\n",
       "              ├───┤        ░ \n",
       "q546_3: ──────┤ H ├────────░─\n",
       "        ┌─────┴───┴──────┐ ░ \n",
       "q546_4: ┤0               ├─░─\n",
       "        │                │ ░ \n",
       "q546_5: ┤1               ├─░─\n",
       "        │                │ ░ \n",
       "q546_6: ┤2 circuit-21574 ├─░─\n",
       "        │                │ ░ \n",
       "q546_7: ┤3               ├─░─\n",
       "        │                │ ░ \n",
       "q546_8: ┤4               ├─░─\n",
       "        └────────────────┘ ░ \n",
       "q546_9: ───────────────────░─\n",
       "                           ░ \n",
       "  c8: 4/═════════════════════\n",
       "                             </pre>"
      ],
      "text/plain": [
       "              ┌───┐        ░ \n",
       "q546_0: ──────┤ H ├────────░─\n",
       "              ├───┤        ░ \n",
       "q546_1: ──────┤ H ├────────░─\n",
       "              ├───┤        ░ \n",
       "q546_2: ──────┤ H ├────────░─\n",
       "              ├───┤        ░ \n",
       "q546_3: ──────┤ H ├────────░─\n",
       "        ┌─────┴───┴──────┐ ░ \n",
       "q546_4: ┤0               ├─░─\n",
       "        │                │ ░ \n",
       "q546_5: ┤1               ├─░─\n",
       "        │                │ ░ \n",
       "q546_6: ┤2 circuit-21574 ├─░─\n",
       "        │                │ ░ \n",
       "q546_7: ┤3               ├─░─\n",
       "        │                │ ░ \n",
       "q546_8: ┤4               ├─░─\n",
       "        └────────────────┘ ░ \n",
       "q546_9: ───────────────────░─\n",
       "                           ░ \n",
       "  c8: 4/═════════════════════\n",
       "                             "
      ]
     },
     "execution_count": 163,
     "metadata": {},
     "output_type": "execute_result"
    }
   ],
   "source": [
    "# Applying H gate to ancilla qubits and A gate to the remaining qubits of Phase Estimation Circuit \n",
    "qreg = QuantumRegister(n+lg+2)\n",
    "creg = ClassicalRegister(n)\n",
    "qpe = QuantumCircuit(qreg,creg)\n",
    "for qubit in range(n):\n",
    "    qpe.h(qubit)\n",
    "ap=list(np.arange(n,n+lg+1))\n",
    "qpe.append(A,ap)\n",
    "qpe.barrier()\n",
    "qpe.draw()"
   ]
  },
  {
   "cell_type": "code",
   "execution_count": 164,
   "id": "d4e3e051",
   "metadata": {},
   "outputs": [
    {
     "name": "stdout",
     "output_type": "stream",
     "text": [
      " \n",
      "3\n",
      "4\n",
      "5\n",
      "6\n",
      "7\n",
      "8\n",
      "9\n",
      " \n",
      "2\n",
      "3\n",
      "4\n",
      "5\n",
      "6\n",
      "7\n",
      "8\n",
      "9\n",
      " \n",
      "1\n",
      "2\n",
      "3\n",
      "4\n",
      "5\n",
      "6\n",
      "7\n",
      "8\n",
      "9\n",
      " \n",
      "0\n",
      "1\n",
      "2\n",
      "3\n",
      "4\n",
      "5\n",
      "6\n",
      "7\n",
      "8\n",
      "9\n"
     ]
    }
   ],
   "source": [
    "#  For Testing\n",
    "#Iteratively generating list qp of different length for each instance of controlled Q\n",
    "#It shows the qubit numbers of Phase estimation circuit to which each instance of Controlled Q(....Q^4, Q^2, Q^1) gets appended to\n",
    "for i in range(n):\n",
    "    j =i +1\n",
    "    qp =list(np.arange(n-j,n+lg+2))\n",
    "    print(\" \")\n",
    "    for l in range(len(qp)):\n",
    "           print(qp[l])"
   ]
  },
  {
   "cell_type": "code",
   "execution_count": 165,
   "id": "41643cb7",
   "metadata": {
    "scrolled": true
   },
   "outputs": [
    {
     "data": {
      "text/html": [
       "<pre style=\"word-wrap: normal;white-space: pre;background: #fff0;line-height: 1.1;font-family: &quot;Courier New&quot;,Courier,monospace\">              ┌───┐        ░                                           »\n",
       "q546_0: ──────┤ H ├────────░───────────────────────────────────────────»\n",
       "              ├───┤        ░                                           »\n",
       "q546_1: ──────┤ H ├────────░───────────────────────────────────────────»\n",
       "              ├───┤        ░                      ┌───────────────────┐»\n",
       "q546_2: ──────┤ H ├────────░──────────────────────┤0                  ├»\n",
       "              ├───┤        ░ ┌───────────────────┐│                   │»\n",
       "q546_3: ──────┤ H ├────────░─┤0                  ├┤                   ├»\n",
       "        ┌─────┴───┴──────┐ ░ │                   ││                   │»\n",
       "q546_4: ┤0               ├─░─┤1                  ├┤1                  ├»\n",
       "        │                │ ░ │                   ││                   │»\n",
       "q546_5: ┤1               ├─░─┤2                  ├┤2                  ├»\n",
       "        │                │ ░ │                   ││  ccircuit-21725^4 │»\n",
       "q546_6: ┤2 circuit-21574 ├─░─┤3 ccircuit-21725^8 ├┤3                  ├»\n",
       "        │                │ ░ │                   ││                   │»\n",
       "q546_7: ┤3               ├─░─┤4                  ├┤4                  ├»\n",
       "        │                │ ░ │                   ││                   │»\n",
       "q546_8: ┤4               ├─░─┤5                  ├┤5                  ├»\n",
       "        └────────────────┘ ░ │                   ││                   │»\n",
       "q546_9: ───────────────────░─┤6                  ├┤6                  ├»\n",
       "                           ░ └───────────────────┘└───────────────────┘»\n",
       "  c8: 4/═══════════════════════════════════════════════════════════════»\n",
       "                                                                       »\n",
       "«                             ┌───────────────────┐\n",
       "«q546_0: ─────────────────────┤0                  ├\n",
       "«        ┌───────────────────┐│                   │\n",
       "«q546_1: ┤0                  ├┤                   ├\n",
       "«        │                   ││                   │\n",
       "«q546_2: ┤                   ├┤                   ├\n",
       "«        │                   ││                   │\n",
       "«q546_3: ┤                   ├┤                   ├\n",
       "«        │                   ││                   │\n",
       "«q546_4: ┤1                  ├┤1                  ├\n",
       "«        │                   ││  ccircuit-21725^1 │\n",
       "«q546_5: ┤2 ccircuit-21725^2 ├┤2                  ├\n",
       "«        │                   ││                   │\n",
       "«q546_6: ┤3                  ├┤3                  ├\n",
       "«        │                   ││                   │\n",
       "«q546_7: ┤4                  ├┤4                  ├\n",
       "«        │                   ││                   │\n",
       "«q546_8: ┤5                  ├┤5                  ├\n",
       "«        │                   ││                   │\n",
       "«q546_9: ┤6                  ├┤6                  ├\n",
       "«        └───────────────────┘└───────────────────┘\n",
       "«  c8: 4/══════════════════════════════════════════\n",
       "«                                                  </pre>"
      ],
      "text/plain": [
       "              ┌───┐        ░                                           »\n",
       "q546_0: ──────┤ H ├────────░───────────────────────────────────────────»\n",
       "              ├───┤        ░                                           »\n",
       "q546_1: ──────┤ H ├────────░───────────────────────────────────────────»\n",
       "              ├───┤        ░                      ┌───────────────────┐»\n",
       "q546_2: ──────┤ H ├────────░──────────────────────┤0                  ├»\n",
       "              ├───┤        ░ ┌───────────────────┐│                   │»\n",
       "q546_3: ──────┤ H ├────────░─┤0                  ├┤                   ├»\n",
       "        ┌─────┴───┴──────┐ ░ │                   ││                   │»\n",
       "q546_4: ┤0               ├─░─┤1                  ├┤1                  ├»\n",
       "        │                │ ░ │                   ││                   │»\n",
       "q546_5: ┤1               ├─░─┤2                  ├┤2                  ├»\n",
       "        │                │ ░ │                   ││  ccircuit-21725^4 │»\n",
       "q546_6: ┤2 circuit-21574 ├─░─┤3 ccircuit-21725^8 ├┤3                  ├»\n",
       "        │                │ ░ │                   ││                   │»\n",
       "q546_7: ┤3               ├─░─┤4                  ├┤4                  ├»\n",
       "        │                │ ░ │                   ││                   │»\n",
       "q546_8: ┤4               ├─░─┤5                  ├┤5                  ├»\n",
       "        └────────────────┘ ░ │                   ││                   │»\n",
       "q546_9: ───────────────────░─┤6                  ├┤6                  ├»\n",
       "                           ░ └───────────────────┘└───────────────────┘»\n",
       "  c8: 4/═══════════════════════════════════════════════════════════════»\n",
       "                                                                       »\n",
       "«                             ┌───────────────────┐\n",
       "«q546_0: ─────────────────────┤0                  ├\n",
       "«        ┌───────────────────┐│                   │\n",
       "«q546_1: ┤0                  ├┤                   ├\n",
       "«        │                   ││                   │\n",
       "«q546_2: ┤                   ├┤                   ├\n",
       "«        │                   ││                   │\n",
       "«q546_3: ┤                   ├┤                   ├\n",
       "«        │                   ││                   │\n",
       "«q546_4: ┤1                  ├┤1                  ├\n",
       "«        │                   ││  ccircuit-21725^1 │\n",
       "«q546_5: ┤2 ccircuit-21725^2 ├┤2                  ├\n",
       "«        │                   ││                   │\n",
       "«q546_6: ┤3                  ├┤3                  ├\n",
       "«        │                   ││                   │\n",
       "«q546_7: ┤4                  ├┤4                  ├\n",
       "«        │                   ││                   │\n",
       "«q546_8: ┤5                  ├┤5                  ├\n",
       "«        │                   ││                   │\n",
       "«q546_9: ┤6                  ├┤6                  ├\n",
       "«        └───────────────────┘└───────────────────┘\n",
       "«  c8: 4/══════════════════════════════════════════\n",
       "«                                                  "
      ]
     },
     "execution_count": 165,
     "metadata": {},
     "output_type": "execute_result"
    }
   ],
   "source": [
    "#n- is the number of ancilla qubits used in Phase estimation\n",
    "#Appending controlled Q(.....Q^4,Q^2,Q^1) operators to the Pase Estimation circuit\n",
    "\n",
    "grover_operator = RemoveBarriers()(grover_operator)\n",
    "i=0\n",
    "qp=list(np.arange(n,n+lg+2))\n",
    "c= n-1\n",
    "for c in range(c,-1,-1):\n",
    "     \n",
    "     Q = circuit_to_gate(grover_operator).control().power(2**c)\n",
    "        \n",
    "     qpe.append(Q,[c]+qp)\n",
    "    \n",
    "qpe.draw()"
   ]
  },
  {
   "cell_type": "code",
   "execution_count": 134,
   "id": "6ea58671",
   "metadata": {},
   "outputs": [],
   "source": [
    "# n- number of ancilla qubits\n",
    "# Creating n-qubit QFTdagger the first n qubits in circ\n",
    "def qft_dagger(qc, n):\n",
    "    qc.h(n-1)\n",
    "    j=1\n",
    "    for j in range(1,n):\n",
    "        l=0\n",
    "        m=1\n",
    "        for m in range(1,j+1):\n",
    "            qc.cp(-math.pi/float(2**(m)), (n-j)+l, (n-(j+1)))\n",
    "            print((n-j)+l,'is the control',end= '   ')\n",
    "            print((n-(j+1)),'is the target')\n",
    "            l += 1\n",
    "            \n",
    "        qc.h((n-(j+1)))"
   ]
  },
  {
   "cell_type": "code",
   "execution_count": 166,
   "id": "261218a0",
   "metadata": {},
   "outputs": [
    {
     "name": "stdout",
     "output_type": "stream",
     "text": [
      "3 is the control   2 is the target\n",
      "2 is the control   1 is the target\n",
      "3 is the control   1 is the target\n",
      "1 is the control   0 is the target\n",
      "2 is the control   0 is the target\n",
      "3 is the control   0 is the target\n"
     ]
    },
    {
     "data": {
      "text/html": [
       "<pre style=\"word-wrap: normal;white-space: pre;background: #fff0;line-height: 1.1;font-family: &quot;Courier New&quot;,Courier,monospace\">                                                                      »\n",
       "q_0: ──────────────────────────────────────────────■─────────■────────»\n",
       "                                             ┌───┐ │P(-π/2)  │        »\n",
       "q_1: ─────────────────────■─────────■────────┤ H ├─■─────────┼────────»\n",
       "                    ┌───┐ │P(-π/2)  │        └───┘           │P(-π/4) »\n",
       "q_2: ──────■────────┤ H ├─■─────────┼────────────────────────■────────»\n",
       "     ┌───┐ │P(-π/2) └───┘           │P(-π/4)                          »\n",
       "q_3: ┤ H ├─■────────────────────────■─────────────────────────────────»\n",
       "     └───┘                                                            »\n",
       "q_4: ─────────────────────────────────────────────────────────────────»\n",
       "                                                                      »\n",
       "q_5: ─────────────────────────────────────────────────────────────────»\n",
       "                                                                      »\n",
       "«               ┌───┐\n",
       "«q_0: ─■────────┤ H ├\n",
       "«      │        └───┘\n",
       "«q_1: ─┼─────────────\n",
       "«      │             \n",
       "«q_2: ─┼─────────────\n",
       "«      │P(-π/8)      \n",
       "«q_3: ─■─────────────\n",
       "«                    \n",
       "«q_4: ───────────────\n",
       "«                    \n",
       "«q_5: ───────────────\n",
       "«                    </pre>"
      ],
      "text/plain": [
       "                                                                      »\n",
       "q_0: ──────────────────────────────────────────────■─────────■────────»\n",
       "                                             ┌───┐ │P(-π/2)  │        »\n",
       "q_1: ─────────────────────■─────────■────────┤ H ├─■─────────┼────────»\n",
       "                    ┌───┐ │P(-π/2)  │        └───┘           │P(-π/4) »\n",
       "q_2: ──────■────────┤ H ├─■─────────┼────────────────────────■────────»\n",
       "     ┌───┐ │P(-π/2) └───┘           │P(-π/4)                          »\n",
       "q_3: ┤ H ├─■────────────────────────■─────────────────────────────────»\n",
       "     └───┘                                                            »\n",
       "q_4: ─────────────────────────────────────────────────────────────────»\n",
       "                                                                      »\n",
       "q_5: ─────────────────────────────────────────────────────────────────»\n",
       "                                                                      »\n",
       "«               ┌───┐\n",
       "«q_0: ─■────────┤ H ├\n",
       "«      │        └───┘\n",
       "«q_1: ─┼─────────────\n",
       "«      │             \n",
       "«q_2: ─┼─────────────\n",
       "«      │P(-π/8)      \n",
       "«q_3: ─■─────────────\n",
       "«                    \n",
       "«q_4: ───────────────\n",
       "«                    \n",
       "«q_5: ───────────────\n",
       "«                    "
      ]
     },
     "execution_count": 166,
     "metadata": {},
     "output_type": "execute_result"
    }
   ],
   "source": [
    "#For Testing QFTdagger\n",
    "test= QuantumCircuit(6)\n",
    "qft_dagger(test,4)\n",
    "test.draw()"
   ]
  },
  {
   "cell_type": "code",
   "execution_count": 167,
   "id": "79d78845",
   "metadata": {},
   "outputs": [
    {
     "name": "stdout",
     "output_type": "stream",
     "text": [
      "3 is the control   2 is the target\n",
      "2 is the control   1 is the target\n",
      "3 is the control   1 is the target\n",
      "1 is the control   0 is the target\n",
      "2 is the control   0 is the target\n",
      "3 is the control   0 is the target\n"
     ]
    }
   ],
   "source": [
    "#Applying QFTdagger to first n-qubits of Phase Estimation circuit\n",
    "#Measuring the results\n",
    "\n",
    "qpe.barrier()\n",
    "# Apply inverse QFT\n",
    "qft_dagger(qpe, n)\n",
    "# Measure\n",
    "qpe.barrier()\n",
    "for g in range(n):\n",
    "    qpe.measure(g,g)"
   ]
  },
  {
   "cell_type": "code",
   "execution_count": 168,
   "id": "70c467e2",
   "metadata": {},
   "outputs": [
    {
     "data": {
      "text/html": [
       "<pre style=\"word-wrap: normal;white-space: pre;background: #fff0;line-height: 1.1;font-family: &quot;Courier New&quot;,Courier,monospace\">              ┌───┐        ░                                           »\n",
       "q546_0: ──────┤ H ├────────░───────────────────────────────────────────»\n",
       "              ├───┤        ░                                           »\n",
       "q546_1: ──────┤ H ├────────░───────────────────────────────────────────»\n",
       "              ├───┤        ░                      ┌───────────────────┐»\n",
       "q546_2: ──────┤ H ├────────░──────────────────────┤0                  ├»\n",
       "              ├───┤        ░ ┌───────────────────┐│                   │»\n",
       "q546_3: ──────┤ H ├────────░─┤0                  ├┤                   ├»\n",
       "        ┌─────┴───┴──────┐ ░ │                   ││                   │»\n",
       "q546_4: ┤0               ├─░─┤1                  ├┤1                  ├»\n",
       "        │                │ ░ │                   ││                   │»\n",
       "q546_5: ┤1               ├─░─┤2                  ├┤2                  ├»\n",
       "        │                │ ░ │                   ││  ccircuit-21725^4 │»\n",
       "q546_6: ┤2 circuit-21574 ├─░─┤3 ccircuit-21725^8 ├┤3                  ├»\n",
       "        │                │ ░ │                   ││                   │»\n",
       "q546_7: ┤3               ├─░─┤4                  ├┤4                  ├»\n",
       "        │                │ ░ │                   ││                   │»\n",
       "q546_8: ┤4               ├─░─┤5                  ├┤5                  ├»\n",
       "        └────────────────┘ ░ │                   ││                   │»\n",
       "q546_9: ───────────────────░─┤6                  ├┤6                  ├»\n",
       "                           ░ └───────────────────┘└───────────────────┘»\n",
       "  c8: 4/═══════════════════════════════════════════════════════════════»\n",
       "                                                                       »\n",
       "«                             ┌───────────────────┐ ░                     »\n",
       "«q546_0: ─────────────────────┤0                  ├─░─────────────────────»\n",
       "«        ┌───────────────────┐│                   │ ░                     »\n",
       "«q546_1: ┤0                  ├┤                   ├─░─────────────────────»\n",
       "«        │                   ││                   │ ░                ┌───┐»\n",
       "«q546_2: ┤                   ├┤                   ├─░───────■────────┤ H ├»\n",
       "«        │                   ││                   │ ░ ┌───┐ │P(-π/2) └───┘»\n",
       "«q546_3: ┤                   ├┤                   ├─░─┤ H ├─■─────────────»\n",
       "«        │                   ││                   │ ░ └───┘               »\n",
       "«q546_4: ┤1                  ├┤1                  ├─░─────────────────────»\n",
       "«        │                   ││  ccircuit-21725^1 │ ░                     »\n",
       "«q546_5: ┤2 ccircuit-21725^2 ├┤2                  ├─░─────────────────────»\n",
       "«        │                   ││                   │ ░                     »\n",
       "«q546_6: ┤3                  ├┤3                  ├─░─────────────────────»\n",
       "«        │                   ││                   │ ░                     »\n",
       "«q546_7: ┤4                  ├┤4                  ├─░─────────────────────»\n",
       "«        │                   ││                   │ ░                     »\n",
       "«q546_8: ┤5                  ├┤5                  ├─░─────────────────────»\n",
       "«        │                   ││                   │ ░                     »\n",
       "«q546_9: ┤6                  ├┤6                  ├─░─────────────────────»\n",
       "«        └───────────────────┘└───────────────────┘ ░                     »\n",
       "«  c8: 4/═════════════════════════════════════════════════════════════════»\n",
       "«                                                                         »\n",
       "«                                                               ┌───┐ ░ ┌─┐   »\n",
       "«q546_0: ──────────────────────────■─────────■─────────■────────┤ H ├─░─┤M├───»\n",
       "«                            ┌───┐ │P(-π/2)  │         │        └───┘ ░ └╥┘┌─┐»\n",
       "«q546_1: ─■─────────■────────┤ H ├─■─────────┼─────────┼──────────────░──╫─┤M├»\n",
       "«         │P(-π/2)  │        └───┘           │P(-π/4)  │              ░  ║ └╥┘»\n",
       "«q546_2: ─■─────────┼────────────────────────■─────────┼──────────────░──╫──╫─»\n",
       "«                   │P(-π/4)                           │P(-π/8)       ░  ║  ║ »\n",
       "«q546_3: ───────────■──────────────────────────────────■──────────────░──╫──╫─»\n",
       "«                                                                     ░  ║  ║ »\n",
       "«q546_4: ─────────────────────────────────────────────────────────────░──╫──╫─»\n",
       "«                                                                     ░  ║  ║ »\n",
       "«q546_5: ─────────────────────────────────────────────────────────────░──╫──╫─»\n",
       "«                                                                     ░  ║  ║ »\n",
       "«q546_6: ─────────────────────────────────────────────────────────────░──╫──╫─»\n",
       "«                                                                     ░  ║  ║ »\n",
       "«q546_7: ─────────────────────────────────────────────────────────────░──╫──╫─»\n",
       "«                                                                     ░  ║  ║ »\n",
       "«q546_8: ─────────────────────────────────────────────────────────────░──╫──╫─»\n",
       "«                                                                     ░  ║  ║ »\n",
       "«q546_9: ─────────────────────────────────────────────────────────────░──╫──╫─»\n",
       "«                                                                     ░  ║  ║ »\n",
       "«  c8: 4/════════════════════════════════════════════════════════════════╩══╩═»\n",
       "«                                                                        0  1 »\n",
       "«              \n",
       "«q546_0: ──────\n",
       "«              \n",
       "«q546_1: ──────\n",
       "«        ┌─┐   \n",
       "«q546_2: ┤M├───\n",
       "«        └╥┘┌─┐\n",
       "«q546_3: ─╫─┤M├\n",
       "«         ║ └╥┘\n",
       "«q546_4: ─╫──╫─\n",
       "«         ║  ║ \n",
       "«q546_5: ─╫──╫─\n",
       "«         ║  ║ \n",
       "«q546_6: ─╫──╫─\n",
       "«         ║  ║ \n",
       "«q546_7: ─╫──╫─\n",
       "«         ║  ║ \n",
       "«q546_8: ─╫──╫─\n",
       "«         ║  ║ \n",
       "«q546_9: ─╫──╫─\n",
       "«         ║  ║ \n",
       "«  c8: 4/═╩══╩═\n",
       "«         2  3 </pre>"
      ],
      "text/plain": [
       "              ┌───┐        ░                                           »\n",
       "q546_0: ──────┤ H ├────────░───────────────────────────────────────────»\n",
       "              ├───┤        ░                                           »\n",
       "q546_1: ──────┤ H ├────────░───────────────────────────────────────────»\n",
       "              ├───┤        ░                      ┌───────────────────┐»\n",
       "q546_2: ──────┤ H ├────────░──────────────────────┤0                  ├»\n",
       "              ├───┤        ░ ┌───────────────────┐│                   │»\n",
       "q546_3: ──────┤ H ├────────░─┤0                  ├┤                   ├»\n",
       "        ┌─────┴───┴──────┐ ░ │                   ││                   │»\n",
       "q546_4: ┤0               ├─░─┤1                  ├┤1                  ├»\n",
       "        │                │ ░ │                   ││                   │»\n",
       "q546_5: ┤1               ├─░─┤2                  ├┤2                  ├»\n",
       "        │                │ ░ │                   ││  ccircuit-21725^4 │»\n",
       "q546_6: ┤2 circuit-21574 ├─░─┤3 ccircuit-21725^8 ├┤3                  ├»\n",
       "        │                │ ░ │                   ││                   │»\n",
       "q546_7: ┤3               ├─░─┤4                  ├┤4                  ├»\n",
       "        │                │ ░ │                   ││                   │»\n",
       "q546_8: ┤4               ├─░─┤5                  ├┤5                  ├»\n",
       "        └────────────────┘ ░ │                   ││                   │»\n",
       "q546_9: ───────────────────░─┤6                  ├┤6                  ├»\n",
       "                           ░ └───────────────────┘└───────────────────┘»\n",
       "  c8: 4/═══════════════════════════════════════════════════════════════»\n",
       "                                                                       »\n",
       "«                             ┌───────────────────┐ ░                     »\n",
       "«q546_0: ─────────────────────┤0                  ├─░─────────────────────»\n",
       "«        ┌───────────────────┐│                   │ ░                     »\n",
       "«q546_1: ┤0                  ├┤                   ├─░─────────────────────»\n",
       "«        │                   ││                   │ ░                ┌───┐»\n",
       "«q546_2: ┤                   ├┤                   ├─░───────■────────┤ H ├»\n",
       "«        │                   ││                   │ ░ ┌───┐ │P(-π/2) └───┘»\n",
       "«q546_3: ┤                   ├┤                   ├─░─┤ H ├─■─────────────»\n",
       "«        │                   ││                   │ ░ └───┘               »\n",
       "«q546_4: ┤1                  ├┤1                  ├─░─────────────────────»\n",
       "«        │                   ││  ccircuit-21725^1 │ ░                     »\n",
       "«q546_5: ┤2 ccircuit-21725^2 ├┤2                  ├─░─────────────────────»\n",
       "«        │                   ││                   │ ░                     »\n",
       "«q546_6: ┤3                  ├┤3                  ├─░─────────────────────»\n",
       "«        │                   ││                   │ ░                     »\n",
       "«q546_7: ┤4                  ├┤4                  ├─░─────────────────────»\n",
       "«        │                   ││                   │ ░                     »\n",
       "«q546_8: ┤5                  ├┤5                  ├─░─────────────────────»\n",
       "«        │                   ││                   │ ░                     »\n",
       "«q546_9: ┤6                  ├┤6                  ├─░─────────────────────»\n",
       "«        └───────────────────┘└───────────────────┘ ░                     »\n",
       "«  c8: 4/═════════════════════════════════════════════════════════════════»\n",
       "«                                                                         »\n",
       "«                                                               ┌───┐ ░ ┌─┐   »\n",
       "«q546_0: ──────────────────────────■─────────■─────────■────────┤ H ├─░─┤M├───»\n",
       "«                            ┌───┐ │P(-π/2)  │         │        └───┘ ░ └╥┘┌─┐»\n",
       "«q546_1: ─■─────────■────────┤ H ├─■─────────┼─────────┼──────────────░──╫─┤M├»\n",
       "«         │P(-π/2)  │        └───┘           │P(-π/4)  │              ░  ║ └╥┘»\n",
       "«q546_2: ─■─────────┼────────────────────────■─────────┼──────────────░──╫──╫─»\n",
       "«                   │P(-π/4)                           │P(-π/8)       ░  ║  ║ »\n",
       "«q546_3: ───────────■──────────────────────────────────■──────────────░──╫──╫─»\n",
       "«                                                                     ░  ║  ║ »\n",
       "«q546_4: ─────────────────────────────────────────────────────────────░──╫──╫─»\n",
       "«                                                                     ░  ║  ║ »\n",
       "«q546_5: ─────────────────────────────────────────────────────────────░──╫──╫─»\n",
       "«                                                                     ░  ║  ║ »\n",
       "«q546_6: ─────────────────────────────────────────────────────────────░──╫──╫─»\n",
       "«                                                                     ░  ║  ║ »\n",
       "«q546_7: ─────────────────────────────────────────────────────────────░──╫──╫─»\n",
       "«                                                                     ░  ║  ║ »\n",
       "«q546_8: ─────────────────────────────────────────────────────────────░──╫──╫─»\n",
       "«                                                                     ░  ║  ║ »\n",
       "«q546_9: ─────────────────────────────────────────────────────────────░──╫──╫─»\n",
       "«                                                                     ░  ║  ║ »\n",
       "«  c8: 4/════════════════════════════════════════════════════════════════╩══╩═»\n",
       "«                                                                        0  1 »\n",
       "«              \n",
       "«q546_0: ──────\n",
       "«              \n",
       "«q546_1: ──────\n",
       "«        ┌─┐   \n",
       "«q546_2: ┤M├───\n",
       "«        └╥┘┌─┐\n",
       "«q546_3: ─╫─┤M├\n",
       "«         ║ └╥┘\n",
       "«q546_4: ─╫──╫─\n",
       "«         ║  ║ \n",
       "«q546_5: ─╫──╫─\n",
       "«         ║  ║ \n",
       "«q546_6: ─╫──╫─\n",
       "«         ║  ║ \n",
       "«q546_7: ─╫──╫─\n",
       "«         ║  ║ \n",
       "«q546_8: ─╫──╫─\n",
       "«         ║  ║ \n",
       "«q546_9: ─╫──╫─\n",
       "«         ║  ║ \n",
       "«  c8: 4/═╩══╩═\n",
       "«         2  3 "
      ]
     },
     "execution_count": 168,
     "metadata": {},
     "output_type": "execute_result"
    }
   ],
   "source": [
    "qpe.draw()"
   ]
  },
  {
   "cell_type": "code",
   "execution_count": 169,
   "id": "59e01c17",
   "metadata": {},
   "outputs": [
    {
     "data": {
      "image/png": "[encoded data removed]",
      "text/plain": [
       "<Figure size 504x360 with 1 Axes>"
      ]
     },
     "execution_count": 169,
     "metadata": {},
     "output_type": "execute_result"
    }
   ],
   "source": [
    "#Executing circuit in simulator and plotting histogram\n",
    "\n",
    "aer_sim = Aer.get_backend('aer_simulator')\n",
    "shots = 4096\n",
    "t_qpe = transpile(qpe, aer_sim)\n",
    "qobj = assemble(t_qpe, shots=shots)\n",
    "results = aer_sim.run(qobj).result()\n",
    "answer = results.get_counts()\n",
    "\n",
    "plot_histogram(answer)"
   ]
  },
  {
   "cell_type": "code",
   "execution_count": null,
   "id": "a5e892da",
   "metadata": {},
   "outputs": [],
   "source": []
  }
 ],
 "metadata": {
  "kernelspec": {
   "display_name": "Python 3",
   "language": "python",
   "name": "python3"
  },
  "language_info": {
   "codemirror_mode": {
    "name": "ipython",
    "version": 3
   },
   "file_extension": ".py",
   "mimetype": "text/x-python",
   "name": "python",
   "nbconvert_exporter": "python",
   "pygments_lexer": "ipython3",
   "version": "3.7.10"
  }
 },
 "nbformat": 4,
 "nbformat_minor": 5
}
